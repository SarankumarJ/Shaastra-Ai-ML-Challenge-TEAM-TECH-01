{
  "nbformat": 4,
  "nbformat_minor": 0,
  "metadata": {
    "colab": {
      "provenance": [],
      "gpuType": "T4"
    },
    "kernelspec": {
      "name": "python3",
      "display_name": "Python 3"
    },
    "language_info": {
      "name": "python"
    },
    "accelerator": "GPU"
  },
  "cells": [
    {
      "cell_type": "code",
      "source": [
        "import pandas as pd\n",
        "import numpy as np\n",
        "from sklearn.model_selection import train_test_split\n",
        "from sklearn.preprocessing import StandardScaler\n",
        "from keras.models import Sequential\n",
        "from sklearn.preprocessing import LabelEncoder\n",
        "from keras.layers import LSTM, Dense, Dropout\n",
        "from keras.callbacks import EarlyStopping\n",
        "import matplotlib.pyplot as plt"
      ],
      "metadata": {
        "id": "XQ3uY8Fi8ZN8"
      },
      "execution_count": 6,
      "outputs": []
    },
    {
      "cell_type": "code",
      "source": [
        "# Load the training data\n",
        "df = pd.read_csv(\"train_data_covid.csv\")"
      ],
      "metadata": {
        "id": "aFyrtj5FbGFZ"
      },
      "execution_count": 7,
      "outputs": []
    },
    {
      "cell_type": "code",
      "source": [
        "# Replace '-' with 0\n",
        "df.replace('-', 0, inplace=True)"
      ],
      "metadata": {
        "id": "6bZoxXBCYGeN"
      },
      "execution_count": 8,
      "outputs": []
    },
    {
      "cell_type": "code",
      "source": [
        "# Handle missing values by filling with the value from the previous day\n",
        "df.fillna(method='ffill', inplace=True)"
      ],
      "metadata": {
        "id": "tpefVu1nbxgQ"
      },
      "execution_count": 9,
      "outputs": []
    },
    {
      "cell_type": "code",
      "source": [
        "# Convert 'Date' column to datetime format\n",
        "df['Date'] = pd.to_datetime(df['Date'], format='%d-%m-%Y')"
      ],
      "metadata": {
        "id": "A07BHZ2mbzfs"
      },
      "execution_count": 10,
      "outputs": []
    },
    {
      "cell_type": "code",
      "source": [
        "# Extract 'Time' from 'Date'\n",
        "df['Time'] = df['Date'].dt.time"
      ],
      "metadata": {
        "id": "_Zw29Nrkb-v0"
      },
      "execution_count": 11,
      "outputs": []
    },
    {
      "cell_type": "code",
      "source": [
        "# Extract day of the week from 'Date'\n",
        "df['Day_of_Week'] = df['Date'].dt.weekday"
      ],
      "metadata": {
        "id": "9_B-cAS7cBXI"
      },
      "execution_count": 12,
      "outputs": []
    },
    {
      "cell_type": "code",
      "source": [
        "# Calculate daily increase in confirmed cases\n",
        "df['Daily_Increase_Confirmed'] = df['Confirmed'].diff()"
      ],
      "metadata": {
        "id": "1si0TYqecDdo"
      },
      "execution_count": 13,
      "outputs": []
    },
    {
      "cell_type": "code",
      "source": [
        "# Create a LabelEncoder object\n",
        "le = LabelEncoder()"
      ],
      "metadata": {
        "id": "wbNZ9UR1cFe_"
      },
      "execution_count": 14,
      "outputs": []
    },
    {
      "cell_type": "code",
      "source": [
        "# Combine the test and train data\n",
        "test_df = pd.read_csv(\"test_data_covid.csv\")\n",
        "combine = pd.concat([df, test_df], axis=0)"
      ],
      "metadata": {
        "id": "U2LfEClwcHyo"
      },
      "execution_count": 15,
      "outputs": []
    },
    {
      "cell_type": "code",
      "source": [
        "# Fit the encoder\n",
        "le.fit(combine[\"State/UnionTerritory\"])"
      ],
      "metadata": {
        "colab": {
          "base_uri": "https://localhost:8080/",
          "height": 74
        },
        "id": "ZT9YfQbacJmn",
        "outputId": "c9ac6e17-da50-4916-b57a-3d1ab345905d"
      },
      "execution_count": 16,
      "outputs": [
        {
          "output_type": "execute_result",
          "data": {
            "text/plain": [
              "LabelEncoder()"
            ],
            "text/html": [
              "<style>#sk-container-id-1 {color: black;background-color: white;}#sk-container-id-1 pre{padding: 0;}#sk-container-id-1 div.sk-toggleable {background-color: white;}#sk-container-id-1 label.sk-toggleable__label {cursor: pointer;display: block;width: 100%;margin-bottom: 0;padding: 0.3em;box-sizing: border-box;text-align: center;}#sk-container-id-1 label.sk-toggleable__label-arrow:before {content: \"▸\";float: left;margin-right: 0.25em;color: #696969;}#sk-container-id-1 label.sk-toggleable__label-arrow:hover:before {color: black;}#sk-container-id-1 div.sk-estimator:hover label.sk-toggleable__label-arrow:before {color: black;}#sk-container-id-1 div.sk-toggleable__content {max-height: 0;max-width: 0;overflow: hidden;text-align: left;background-color: #f0f8ff;}#sk-container-id-1 div.sk-toggleable__content pre {margin: 0.2em;color: black;border-radius: 0.25em;background-color: #f0f8ff;}#sk-container-id-1 input.sk-toggleable__control:checked~div.sk-toggleable__content {max-height: 200px;max-width: 100%;overflow: auto;}#sk-container-id-1 input.sk-toggleable__control:checked~label.sk-toggleable__label-arrow:before {content: \"▾\";}#sk-container-id-1 div.sk-estimator input.sk-toggleable__control:checked~label.sk-toggleable__label {background-color: #d4ebff;}#sk-container-id-1 div.sk-label input.sk-toggleable__control:checked~label.sk-toggleable__label {background-color: #d4ebff;}#sk-container-id-1 input.sk-hidden--visually {border: 0;clip: rect(1px 1px 1px 1px);clip: rect(1px, 1px, 1px, 1px);height: 1px;margin: -1px;overflow: hidden;padding: 0;position: absolute;width: 1px;}#sk-container-id-1 div.sk-estimator {font-family: monospace;background-color: #f0f8ff;border: 1px dotted black;border-radius: 0.25em;box-sizing: border-box;margin-bottom: 0.5em;}#sk-container-id-1 div.sk-estimator:hover {background-color: #d4ebff;}#sk-container-id-1 div.sk-parallel-item::after {content: \"\";width: 100%;border-bottom: 1px solid gray;flex-grow: 1;}#sk-container-id-1 div.sk-label:hover label.sk-toggleable__label {background-color: #d4ebff;}#sk-container-id-1 div.sk-serial::before {content: \"\";position: absolute;border-left: 1px solid gray;box-sizing: border-box;top: 0;bottom: 0;left: 50%;z-index: 0;}#sk-container-id-1 div.sk-serial {display: flex;flex-direction: column;align-items: center;background-color: white;padding-right: 0.2em;padding-left: 0.2em;position: relative;}#sk-container-id-1 div.sk-item {position: relative;z-index: 1;}#sk-container-id-1 div.sk-parallel {display: flex;align-items: stretch;justify-content: center;background-color: white;position: relative;}#sk-container-id-1 div.sk-item::before, #sk-container-id-1 div.sk-parallel-item::before {content: \"\";position: absolute;border-left: 1px solid gray;box-sizing: border-box;top: 0;bottom: 0;left: 50%;z-index: -1;}#sk-container-id-1 div.sk-parallel-item {display: flex;flex-direction: column;z-index: 1;position: relative;background-color: white;}#sk-container-id-1 div.sk-parallel-item:first-child::after {align-self: flex-end;width: 50%;}#sk-container-id-1 div.sk-parallel-item:last-child::after {align-self: flex-start;width: 50%;}#sk-container-id-1 div.sk-parallel-item:only-child::after {width: 0;}#sk-container-id-1 div.sk-dashed-wrapped {border: 1px dashed gray;margin: 0 0.4em 0.5em 0.4em;box-sizing: border-box;padding-bottom: 0.4em;background-color: white;}#sk-container-id-1 div.sk-label label {font-family: monospace;font-weight: bold;display: inline-block;line-height: 1.2em;}#sk-container-id-1 div.sk-label-container {text-align: center;}#sk-container-id-1 div.sk-container {/* jupyter's `normalize.less` sets `[hidden] { display: none; }` but bootstrap.min.css set `[hidden] { display: none !important; }` so we also need the `!important` here to be able to override the default hidden behavior on the sphinx rendered scikit-learn.org. See: https://github.com/scikit-learn/scikit-learn/issues/21755 */display: inline-block !important;position: relative;}#sk-container-id-1 div.sk-text-repr-fallback {display: none;}</style><div id=\"sk-container-id-1\" class=\"sk-top-container\"><div class=\"sk-text-repr-fallback\"><pre>LabelEncoder()</pre><b>In a Jupyter environment, please rerun this cell to show the HTML representation or trust the notebook. <br />On GitHub, the HTML representation is unable to render, please try loading this page with nbviewer.org.</b></div><div class=\"sk-container\" hidden><div class=\"sk-item\"><div class=\"sk-estimator sk-toggleable\"><input class=\"sk-toggleable__control sk-hidden--visually\" id=\"sk-estimator-id-1\" type=\"checkbox\" checked><label for=\"sk-estimator-id-1\" class=\"sk-toggleable__label sk-toggleable__label-arrow\">LabelEncoder</label><div class=\"sk-toggleable__content\"><pre>LabelEncoder()</pre></div></div></div></div></div>"
            ]
          },
          "metadata": {},
          "execution_count": 16
        }
      ]
    },
    {
      "cell_type": "code",
      "source": [
        "# Encode the \"State/UnionTerritory\" column\n",
        "df[\"State/UnionTerritory_Encoded\"] = le.transform(df[\"State/UnionTerritory\"])"
      ],
      "metadata": {
        "id": "O4ty7tgTcLh8"
      },
      "execution_count": 17,
      "outputs": []
    },
    {
      "cell_type": "code",
      "source": [
        "# Select relevant features\n",
        "features = ['Confirmed', 'Daily_Increase_Confirmed', 'PopulationDensityPerSqKm', \"State/UnionTerritory_Encoded\"]"
      ],
      "metadata": {
        "id": "PZLDpR-FcNvK"
      },
      "execution_count": 18,
      "outputs": []
    },
    {
      "cell_type": "code",
      "source": [
        "# Feature scaling\n",
        "scaler = StandardScaler()\n",
        "df[features] = scaler.fit_transform(df[features])"
      ],
      "metadata": {
        "id": "l0iR6HRecPpY"
      },
      "execution_count": 19,
      "outputs": []
    },
    {
      "cell_type": "code",
      "source": [
        "# Define target variable\n",
        "target = 'Deaths'"
      ],
      "metadata": {
        "id": "1UPol0uzcRfi"
      },
      "execution_count": 20,
      "outputs": []
    },
    {
      "cell_type": "code",
      "source": [
        "# Drop rows with NaN values resulting from diff() operation\n",
        "df = df.dropna()"
      ],
      "metadata": {
        "id": "kO5BYtJVcTRj"
      },
      "execution_count": 21,
      "outputs": []
    },
    {
      "cell_type": "code",
      "source": [
        "# Split data into input (X) and output (y) sequences\n",
        "X = df[features].values\n",
        "y = df[target].values"
      ],
      "metadata": {
        "id": "EeNlMoI1cU5o"
      },
      "execution_count": 22,
      "outputs": []
    },
    {
      "cell_type": "code",
      "source": [
        "# Reshape input data for LSTM (samples, time steps, features)\n",
        "X = X.reshape(X.shape[0], 1, X.shape[1])"
      ],
      "metadata": {
        "id": "gbzNSY-5cWr3"
      },
      "execution_count": 23,
      "outputs": []
    },
    {
      "cell_type": "code",
      "source": [
        "# Split data into training and testing sets (90% train, 10% test)\n",
        "X_train, X_test, y_train, y_test = train_test_split(X, y, test_size=0.1)"
      ],
      "metadata": {
        "id": "yHkPsW7KcYSp"
      },
      "execution_count": 24,
      "outputs": []
    },
    {
      "cell_type": "code",
      "source": [
        "# Add test data to the train data\n",
        "X_train = np.concatenate((X_train, X_test), axis=0)\n",
        "y_train = np.concatenate((y_train, y_test), axis=0)"
      ],
      "metadata": {
        "id": "R5ARe7Hocaha"
      },
      "execution_count": 25,
      "outputs": []
    },
    {
      "cell_type": "code",
      "source": [
        "# Define LSTM model architecture\n",
        "model = Sequential([\n",
        "    LSTM(units=1024, return_sequences=True, input_shape=(X_train.shape[1], X_train.shape[2])),\n",
        "    Dropout(0.3),\n",
        "    LSTM(units=512, return_sequences=True),\n",
        "    Dropout(0.3),\n",
        "    LSTM(units=512, return_sequences=True),\n",
        "    Dropout(0.3),\n",
        "    LSTM(units=512),\n",
        "    Dropout(0.3),\n",
        "    Dense(units=256, activation='relu'),\n",
        "    Dense(units=256, activation='relu'),\n",
        "    Dense(units=128, activation='relu'),\n",
        "    Dense(units=128, activation='relu'),\n",
        "    Dense(units=64, activation='relu'),\n",
        "    Dense(units=64, activation='relu'),\n",
        "    Dense(units=1)\n",
        "])"
      ],
      "metadata": {
        "id": "-VZaHCI2ccJb"
      },
      "execution_count": 26,
      "outputs": []
    },
    {
      "cell_type": "code",
      "source": [
        "# Compile model\n",
        "model.compile(optimizer='adam', loss='mae')"
      ],
      "metadata": {
        "id": "9fkEHT4Vce8a"
      },
      "execution_count": 27,
      "outputs": []
    },
    {
      "cell_type": "code",
      "source": [
        "# Define early stopping to prevent overfitting\n",
        "early_stopping = EarlyStopping(monitor='val_loss', patience=50, restore_best_weights=True, verbose=1)"
      ],
      "metadata": {
        "id": "wAJYrAPbchXa"
      },
      "execution_count": 28,
      "outputs": []
    },
    {
      "cell_type": "code",
      "source": [
        "# Fit model\n",
        "history = model.fit(X_train, y_train, epochs=1000, batch_size=128, validation_split=0.4, callbacks=[early_stopping], verbose=1)"
      ],
      "metadata": {
        "colab": {
          "base_uri": "https://localhost:8080/"
        },
        "id": "eIYHqgIccjzG",
        "outputId": "bb07587b-2912-4729-f1a8-2251399b7894"
      },
      "execution_count": 29,
      "outputs": [
        {
          "output_type": "stream",
          "name": "stdout",
          "text": [
            "Epoch 1/1000\n",
            "71/71 [==============================] - 24s 57ms/step - loss: 1908.1533 - val_loss: 1224.2289\n",
            "Epoch 2/1000\n",
            "71/71 [==============================] - 1s 21ms/step - loss: 1057.8882 - val_loss: 1385.1775\n",
            "Epoch 3/1000\n",
            "71/71 [==============================] - 1s 19ms/step - loss: 940.7730 - val_loss: 742.5043\n",
            "Epoch 4/1000\n",
            "71/71 [==============================] - 1s 19ms/step - loss: 816.5192 - val_loss: 765.7781\n",
            "Epoch 5/1000\n",
            "71/71 [==============================] - 2s 25ms/step - loss: 794.9598 - val_loss: 713.5272\n",
            "Epoch 6/1000\n",
            "71/71 [==============================] - 2s 26ms/step - loss: 824.1202 - val_loss: 733.8793\n",
            "Epoch 7/1000\n",
            "71/71 [==============================] - 2s 23ms/step - loss: 803.8836 - val_loss: 719.0194\n",
            "Epoch 8/1000\n",
            "71/71 [==============================] - 2s 22ms/step - loss: 784.3528 - val_loss: 707.8967\n",
            "Epoch 9/1000\n",
            "71/71 [==============================] - 1s 21ms/step - loss: 777.6156 - val_loss: 680.1319\n",
            "Epoch 10/1000\n",
            "71/71 [==============================] - 1s 21ms/step - loss: 786.5574 - val_loss: 727.6412\n",
            "Epoch 11/1000\n",
            "71/71 [==============================] - 2s 21ms/step - loss: 785.3018 - val_loss: 703.7509\n",
            "Epoch 12/1000\n",
            "71/71 [==============================] - 2s 21ms/step - loss: 762.2753 - val_loss: 719.2507\n",
            "Epoch 13/1000\n",
            "71/71 [==============================] - 2s 22ms/step - loss: 746.2728 - val_loss: 662.8128\n",
            "Epoch 14/1000\n",
            "71/71 [==============================] - 2s 24ms/step - loss: 721.8680 - val_loss: 607.8250\n",
            "Epoch 15/1000\n",
            "71/71 [==============================] - 2s 29ms/step - loss: 704.9771 - val_loss: 722.6772\n",
            "Epoch 16/1000\n",
            "71/71 [==============================] - 2s 22ms/step - loss: 690.5273 - val_loss: 564.6514\n",
            "Epoch 17/1000\n",
            "71/71 [==============================] - 1s 20ms/step - loss: 665.3189 - val_loss: 698.2985\n",
            "Epoch 18/1000\n",
            "71/71 [==============================] - 2s 23ms/step - loss: 618.6000 - val_loss: 516.8058\n",
            "Epoch 19/1000\n",
            "71/71 [==============================] - 2s 29ms/step - loss: 631.6445 - val_loss: 569.7733\n",
            "Epoch 20/1000\n",
            "71/71 [==============================] - 2s 27ms/step - loss: 596.4488 - val_loss: 482.3815\n",
            "Epoch 21/1000\n",
            "71/71 [==============================] - 1s 18ms/step - loss: 584.0945 - val_loss: 506.1105\n",
            "Epoch 22/1000\n",
            "71/71 [==============================] - 2s 27ms/step - loss: 560.4783 - val_loss: 441.5896\n",
            "Epoch 23/1000\n",
            "71/71 [==============================] - 2s 28ms/step - loss: 562.0578 - val_loss: 420.2383\n",
            "Epoch 24/1000\n",
            "71/71 [==============================] - 2s 22ms/step - loss: 504.9737 - val_loss: 431.3311\n",
            "Epoch 25/1000\n",
            "71/71 [==============================] - 1s 20ms/step - loss: 480.6878 - val_loss: 415.9703\n",
            "Epoch 26/1000\n",
            "71/71 [==============================] - 1s 21ms/step - loss: 502.4751 - val_loss: 412.2362\n",
            "Epoch 27/1000\n",
            "71/71 [==============================] - 1s 20ms/step - loss: 464.3486 - val_loss: 510.9491\n",
            "Epoch 28/1000\n",
            "71/71 [==============================] - 2s 22ms/step - loss: 481.2122 - val_loss: 338.9808\n",
            "Epoch 29/1000\n",
            "71/71 [==============================] - 1s 20ms/step - loss: 441.1437 - val_loss: 347.4904\n",
            "Epoch 30/1000\n",
            "71/71 [==============================] - 2s 22ms/step - loss: 459.0393 - val_loss: 368.6207\n",
            "Epoch 31/1000\n",
            "71/71 [==============================] - 2s 24ms/step - loss: 424.3615 - val_loss: 403.8355\n",
            "Epoch 32/1000\n",
            "71/71 [==============================] - 2s 30ms/step - loss: 410.0806 - val_loss: 329.0737\n",
            "Epoch 33/1000\n",
            "71/71 [==============================] - 1s 19ms/step - loss: 418.3275 - val_loss: 294.8929\n",
            "Epoch 34/1000\n",
            "71/71 [==============================] - 1s 20ms/step - loss: 398.3241 - val_loss: 366.8588\n",
            "Epoch 35/1000\n",
            "71/71 [==============================] - 1s 20ms/step - loss: 399.3117 - val_loss: 310.1708\n",
            "Epoch 36/1000\n",
            "71/71 [==============================] - 2s 22ms/step - loss: 394.2852 - val_loss: 327.3342\n",
            "Epoch 37/1000\n",
            "71/71 [==============================] - 1s 20ms/step - loss: 388.8934 - val_loss: 277.0111\n",
            "Epoch 38/1000\n",
            "71/71 [==============================] - 1s 19ms/step - loss: 378.8790 - val_loss: 327.2881\n",
            "Epoch 39/1000\n",
            "71/71 [==============================] - 2s 24ms/step - loss: 378.8245 - val_loss: 294.2435\n",
            "Epoch 40/1000\n",
            "71/71 [==============================] - 2s 33ms/step - loss: 377.9850 - val_loss: 307.0343\n",
            "Epoch 41/1000\n",
            "71/71 [==============================] - 2s 29ms/step - loss: 356.1805 - val_loss: 266.0368\n",
            "Epoch 42/1000\n",
            "71/71 [==============================] - 2s 25ms/step - loss: 344.2404 - val_loss: 253.3893\n",
            "Epoch 43/1000\n",
            "71/71 [==============================] - 1s 21ms/step - loss: 371.6017 - val_loss: 238.7819\n",
            "Epoch 44/1000\n",
            "71/71 [==============================] - 1s 20ms/step - loss: 335.0027 - val_loss: 314.6248\n",
            "Epoch 45/1000\n",
            "71/71 [==============================] - 2s 23ms/step - loss: 330.2602 - val_loss: 262.4922\n",
            "Epoch 46/1000\n",
            "71/71 [==============================] - 2s 22ms/step - loss: 318.8264 - val_loss: 217.1802\n",
            "Epoch 47/1000\n",
            "71/71 [==============================] - 2s 21ms/step - loss: 317.5724 - val_loss: 246.4626\n",
            "Epoch 48/1000\n",
            "71/71 [==============================] - 2s 27ms/step - loss: 316.5204 - val_loss: 260.2221\n",
            "Epoch 49/1000\n",
            "71/71 [==============================] - 2s 27ms/step - loss: 330.5316 - val_loss: 292.8920\n",
            "Epoch 50/1000\n",
            "71/71 [==============================] - 1s 20ms/step - loss: 326.8611 - val_loss: 212.3008\n",
            "Epoch 51/1000\n",
            "71/71 [==============================] - 2s 24ms/step - loss: 299.1818 - val_loss: 183.3235\n",
            "Epoch 52/1000\n",
            "71/71 [==============================] - 2s 23ms/step - loss: 275.2958 - val_loss: 194.0362\n",
            "Epoch 53/1000\n",
            "71/71 [==============================] - 1s 20ms/step - loss: 301.9203 - val_loss: 266.9684\n",
            "Epoch 54/1000\n",
            "71/71 [==============================] - 2s 23ms/step - loss: 297.0453 - val_loss: 214.3670\n",
            "Epoch 55/1000\n",
            "71/71 [==============================] - 2s 22ms/step - loss: 282.1205 - val_loss: 224.0660\n",
            "Epoch 56/1000\n",
            "71/71 [==============================] - 1s 20ms/step - loss: 291.6891 - val_loss: 180.1603\n",
            "Epoch 57/1000\n",
            "71/71 [==============================] - 2s 22ms/step - loss: 268.8487 - val_loss: 200.9405\n",
            "Epoch 58/1000\n",
            "71/71 [==============================] - 2s 30ms/step - loss: 268.8737 - val_loss: 222.9315\n",
            "Epoch 59/1000\n",
            "71/71 [==============================] - 1s 17ms/step - loss: 268.4604 - val_loss: 174.2380\n",
            "Epoch 60/1000\n",
            "71/71 [==============================] - 1s 19ms/step - loss: 256.1143 - val_loss: 163.3452\n",
            "Epoch 61/1000\n",
            "71/71 [==============================] - 2s 23ms/step - loss: 254.5896 - val_loss: 179.2734\n",
            "Epoch 62/1000\n",
            "71/71 [==============================] - 2s 23ms/step - loss: 261.7507 - val_loss: 152.1884\n",
            "Epoch 63/1000\n",
            "71/71 [==============================] - 2s 22ms/step - loss: 239.8114 - val_loss: 162.5501\n",
            "Epoch 64/1000\n",
            "71/71 [==============================] - 1s 19ms/step - loss: 249.6233 - val_loss: 212.9856\n",
            "Epoch 65/1000\n",
            "71/71 [==============================] - 2s 26ms/step - loss: 272.6134 - val_loss: 154.5763\n",
            "Epoch 66/1000\n",
            "71/71 [==============================] - 2s 26ms/step - loss: 228.2527 - val_loss: 152.9408\n",
            "Epoch 67/1000\n",
            "71/71 [==============================] - 2s 27ms/step - loss: 230.8257 - val_loss: 146.3185\n",
            "Epoch 68/1000\n",
            "71/71 [==============================] - 2s 22ms/step - loss: 221.4053 - val_loss: 150.2856\n",
            "Epoch 69/1000\n",
            "71/71 [==============================] - 1s 19ms/step - loss: 227.5780 - val_loss: 134.0720\n",
            "Epoch 70/1000\n",
            "71/71 [==============================] - 1s 16ms/step - loss: 216.8143 - val_loss: 164.0210\n",
            "Epoch 71/1000\n",
            "71/71 [==============================] - 1s 15ms/step - loss: 216.4910 - val_loss: 154.2368\n",
            "Epoch 72/1000\n",
            "71/71 [==============================] - 1s 16ms/step - loss: 211.8840 - val_loss: 181.0265\n",
            "Epoch 73/1000\n",
            "71/71 [==============================] - 1s 15ms/step - loss: 218.1822 - val_loss: 198.2101\n",
            "Epoch 74/1000\n",
            "71/71 [==============================] - 1s 16ms/step - loss: 227.3215 - val_loss: 171.2796\n",
            "Epoch 75/1000\n",
            "71/71 [==============================] - 1s 17ms/step - loss: 227.8572 - val_loss: 136.3739\n",
            "Epoch 76/1000\n",
            "71/71 [==============================] - 1s 19ms/step - loss: 220.9749 - val_loss: 156.9474\n",
            "Epoch 77/1000\n",
            "71/71 [==============================] - 1s 20ms/step - loss: 214.5071 - val_loss: 221.7144\n",
            "Epoch 78/1000\n",
            "71/71 [==============================] - 1s 16ms/step - loss: 228.4800 - val_loss: 210.0652\n",
            "Epoch 79/1000\n",
            "71/71 [==============================] - 2s 24ms/step - loss: 208.9977 - val_loss: 196.8733\n",
            "Epoch 80/1000\n",
            "71/71 [==============================] - 2s 23ms/step - loss: 205.2557 - val_loss: 159.8366\n",
            "Epoch 81/1000\n",
            "71/71 [==============================] - 2s 24ms/step - loss: 206.9496 - val_loss: 157.2818\n",
            "Epoch 82/1000\n",
            "71/71 [==============================] - 2s 28ms/step - loss: 223.9394 - val_loss: 301.6976\n",
            "Epoch 83/1000\n",
            "71/71 [==============================] - 2s 24ms/step - loss: 212.2053 - val_loss: 141.3427\n",
            "Epoch 84/1000\n",
            "71/71 [==============================] - 2s 29ms/step - loss: 212.0840 - val_loss: 103.3215\n",
            "Epoch 85/1000\n",
            "71/71 [==============================] - 2s 28ms/step - loss: 189.0218 - val_loss: 136.4064\n",
            "Epoch 86/1000\n",
            "71/71 [==============================] - 2s 22ms/step - loss: 198.2629 - val_loss: 182.8984\n",
            "Epoch 87/1000\n",
            "71/71 [==============================] - 2s 21ms/step - loss: 206.3255 - val_loss: 108.5451\n",
            "Epoch 88/1000\n",
            "71/71 [==============================] - 1s 16ms/step - loss: 237.6645 - val_loss: 185.8731\n",
            "Epoch 89/1000\n",
            "71/71 [==============================] - 1s 16ms/step - loss: 205.0314 - val_loss: 119.8227\n",
            "Epoch 90/1000\n",
            "71/71 [==============================] - 1s 17ms/step - loss: 183.2926 - val_loss: 97.2398\n",
            "Epoch 91/1000\n",
            "71/71 [==============================] - 1s 16ms/step - loss: 210.2422 - val_loss: 164.6215\n",
            "Epoch 92/1000\n",
            "71/71 [==============================] - 1s 15ms/step - loss: 197.5249 - val_loss: 156.0669\n",
            "Epoch 93/1000\n",
            "71/71 [==============================] - 1s 16ms/step - loss: 191.9561 - val_loss: 128.7325\n",
            "Epoch 94/1000\n",
            "71/71 [==============================] - 1s 19ms/step - loss: 192.6608 - val_loss: 115.6254\n",
            "Epoch 95/1000\n",
            "71/71 [==============================] - 1s 20ms/step - loss: 189.9292 - val_loss: 127.6744\n",
            "Epoch 96/1000\n",
            "71/71 [==============================] - 1s 18ms/step - loss: 199.7089 - val_loss: 131.6567\n",
            "Epoch 97/1000\n",
            "71/71 [==============================] - 1s 15ms/step - loss: 196.7980 - val_loss: 147.8982\n",
            "Epoch 98/1000\n",
            "71/71 [==============================] - 1s 16ms/step - loss: 204.8549 - val_loss: 102.5807\n",
            "Epoch 99/1000\n",
            "71/71 [==============================] - 1s 15ms/step - loss: 197.1832 - val_loss: 121.2473\n",
            "Epoch 100/1000\n",
            "71/71 [==============================] - 1s 16ms/step - loss: 188.3154 - val_loss: 101.2919\n",
            "Epoch 101/1000\n",
            "71/71 [==============================] - 1s 15ms/step - loss: 184.2643 - val_loss: 98.7363\n",
            "Epoch 102/1000\n",
            "71/71 [==============================] - 1s 16ms/step - loss: 192.3215 - val_loss: 110.9075\n",
            "Epoch 103/1000\n",
            "71/71 [==============================] - 1s 15ms/step - loss: 201.1214 - val_loss: 112.6550\n",
            "Epoch 104/1000\n",
            "71/71 [==============================] - 1s 16ms/step - loss: 198.5033 - val_loss: 159.9401\n",
            "Epoch 105/1000\n",
            "71/71 [==============================] - 1s 18ms/step - loss: 201.7878 - val_loss: 94.2272\n",
            "Epoch 106/1000\n",
            "71/71 [==============================] - 1s 20ms/step - loss: 176.6800 - val_loss: 149.9323\n",
            "Epoch 107/1000\n",
            "71/71 [==============================] - 1s 18ms/step - loss: 242.4068 - val_loss: 175.7455\n",
            "Epoch 108/1000\n",
            "71/71 [==============================] - 1s 15ms/step - loss: 198.9105 - val_loss: 127.7388\n",
            "Epoch 109/1000\n",
            "71/71 [==============================] - 1s 15ms/step - loss: 181.2748 - val_loss: 98.9932\n",
            "Epoch 110/1000\n",
            "71/71 [==============================] - 1s 16ms/step - loss: 176.1328 - val_loss: 106.9002\n",
            "Epoch 111/1000\n",
            "71/71 [==============================] - 1s 15ms/step - loss: 169.5277 - val_loss: 109.4454\n",
            "Epoch 112/1000\n",
            "71/71 [==============================] - 1s 15ms/step - loss: 173.3528 - val_loss: 100.5053\n",
            "Epoch 113/1000\n",
            "71/71 [==============================] - 1s 15ms/step - loss: 166.3504 - val_loss: 100.7219\n",
            "Epoch 114/1000\n",
            "71/71 [==============================] - 1s 15ms/step - loss: 174.7309 - val_loss: 106.0925\n",
            "Epoch 115/1000\n",
            "71/71 [==============================] - 1s 16ms/step - loss: 185.1642 - val_loss: 87.7229\n",
            "Epoch 116/1000\n",
            "71/71 [==============================] - 1s 17ms/step - loss: 175.3826 - val_loss: 110.8893\n",
            "Epoch 117/1000\n",
            "71/71 [==============================] - 1s 19ms/step - loss: 175.1374 - val_loss: 107.0295\n",
            "Epoch 118/1000\n",
            "71/71 [==============================] - 1s 19ms/step - loss: 167.0423 - val_loss: 150.9098\n",
            "Epoch 119/1000\n",
            "71/71 [==============================] - 1s 15ms/step - loss: 204.1100 - val_loss: 95.7978\n",
            "Epoch 120/1000\n",
            "71/71 [==============================] - 1s 15ms/step - loss: 172.6359 - val_loss: 103.1910\n",
            "Epoch 121/1000\n",
            "71/71 [==============================] - 1s 16ms/step - loss: 172.9990 - val_loss: 99.7967\n",
            "Epoch 122/1000\n",
            "71/71 [==============================] - 1s 16ms/step - loss: 177.4106 - val_loss: 245.2083\n",
            "Epoch 123/1000\n",
            "71/71 [==============================] - 1s 16ms/step - loss: 168.7263 - val_loss: 139.7538\n",
            "Epoch 124/1000\n",
            "71/71 [==============================] - 1s 15ms/step - loss: 176.3647 - val_loss: 97.9697\n",
            "Epoch 125/1000\n",
            "71/71 [==============================] - 1s 16ms/step - loss: 167.8437 - val_loss: 149.6716\n",
            "Epoch 126/1000\n",
            "71/71 [==============================] - 1s 15ms/step - loss: 178.6777 - val_loss: 138.7544\n",
            "Epoch 127/1000\n",
            "71/71 [==============================] - 1s 17ms/step - loss: 162.8294 - val_loss: 106.7739\n",
            "Epoch 128/1000\n",
            "71/71 [==============================] - 1s 19ms/step - loss: 200.1671 - val_loss: 110.9620\n",
            "Epoch 129/1000\n",
            "71/71 [==============================] - 2s 33ms/step - loss: 166.8738 - val_loss: 107.0860\n",
            "Epoch 130/1000\n",
            "71/71 [==============================] - 1s 16ms/step - loss: 168.7777 - val_loss: 128.4752\n",
            "Epoch 131/1000\n",
            "71/71 [==============================] - 1s 16ms/step - loss: 164.3494 - val_loss: 99.2575\n",
            "Epoch 132/1000\n",
            "71/71 [==============================] - 1s 16ms/step - loss: 163.6081 - val_loss: 94.1989\n",
            "Epoch 133/1000\n",
            "71/71 [==============================] - 1s 16ms/step - loss: 162.6761 - val_loss: 148.4594\n",
            "Epoch 134/1000\n",
            "71/71 [==============================] - 1s 15ms/step - loss: 173.3267 - val_loss: 135.5160\n",
            "Epoch 135/1000\n",
            "71/71 [==============================] - 1s 16ms/step - loss: 177.9082 - val_loss: 82.7289\n",
            "Epoch 136/1000\n",
            "71/71 [==============================] - 1s 16ms/step - loss: 166.0496 - val_loss: 109.0507\n",
            "Epoch 137/1000\n",
            "71/71 [==============================] - 1s 16ms/step - loss: 169.7290 - val_loss: 101.7879\n",
            "Epoch 138/1000\n",
            "71/71 [==============================] - 1s 15ms/step - loss: 162.9547 - val_loss: 105.8162\n",
            "Epoch 139/1000\n",
            "71/71 [==============================] - 1s 19ms/step - loss: 166.4678 - val_loss: 89.3911\n",
            "Epoch 140/1000\n",
            "71/71 [==============================] - 1s 20ms/step - loss: 169.3032 - val_loss: 117.2300\n",
            "Epoch 141/1000\n",
            "71/71 [==============================] - 1s 17ms/step - loss: 166.9133 - val_loss: 94.5855\n",
            "Epoch 142/1000\n",
            "71/71 [==============================] - 1s 16ms/step - loss: 175.6998 - val_loss: 100.4846\n",
            "Epoch 143/1000\n",
            "71/71 [==============================] - 1s 15ms/step - loss: 164.2390 - val_loss: 95.0176\n",
            "Epoch 144/1000\n",
            "71/71 [==============================] - 1s 16ms/step - loss: 161.8894 - val_loss: 82.6211\n",
            "Epoch 145/1000\n",
            "71/71 [==============================] - 1s 15ms/step - loss: 162.0822 - val_loss: 90.6095\n",
            "Epoch 146/1000\n",
            "71/71 [==============================] - 1s 16ms/step - loss: 156.3372 - val_loss: 101.7807\n",
            "Epoch 147/1000\n",
            "71/71 [==============================] - 1s 15ms/step - loss: 163.2404 - val_loss: 120.8043\n",
            "Epoch 148/1000\n",
            "71/71 [==============================] - 1s 16ms/step - loss: 171.9451 - val_loss: 104.1570\n",
            "Epoch 149/1000\n",
            "71/71 [==============================] - 1s 15ms/step - loss: 173.6165 - val_loss: 268.4407\n",
            "Epoch 150/1000\n",
            "71/71 [==============================] - 1s 18ms/step - loss: 190.8149 - val_loss: 112.6411\n",
            "Epoch 151/1000\n",
            "71/71 [==============================] - 1s 19ms/step - loss: 163.0158 - val_loss: 128.5062\n",
            "Epoch 152/1000\n",
            "71/71 [==============================] - 1s 19ms/step - loss: 166.5265 - val_loss: 96.3668\n",
            "Epoch 153/1000\n",
            "71/71 [==============================] - 1s 16ms/step - loss: 154.6673 - val_loss: 110.4531\n",
            "Epoch 154/1000\n",
            "71/71 [==============================] - 1s 15ms/step - loss: 151.2914 - val_loss: 99.9407\n",
            "Epoch 155/1000\n",
            "71/71 [==============================] - 1s 16ms/step - loss: 158.6081 - val_loss: 165.1458\n",
            "Epoch 156/1000\n",
            "71/71 [==============================] - 1s 16ms/step - loss: 168.4154 - val_loss: 115.0981\n",
            "Epoch 157/1000\n",
            "71/71 [==============================] - 1s 16ms/step - loss: 153.6975 - val_loss: 97.3482\n",
            "Epoch 158/1000\n",
            "71/71 [==============================] - 1s 16ms/step - loss: 153.6899 - val_loss: 96.2597\n",
            "Epoch 159/1000\n",
            "71/71 [==============================] - 1s 17ms/step - loss: 161.8434 - val_loss: 89.7220\n",
            "Epoch 160/1000\n",
            "71/71 [==============================] - 1s 16ms/step - loss: 156.9624 - val_loss: 110.9606\n",
            "Epoch 161/1000\n",
            "71/71 [==============================] - 1s 19ms/step - loss: 159.3086 - val_loss: 192.7311\n",
            "Epoch 162/1000\n",
            "71/71 [==============================] - 1s 20ms/step - loss: 173.3949 - val_loss: 93.7171\n",
            "Epoch 163/1000\n",
            "71/71 [==============================] - 1s 21ms/step - loss: 145.7603 - val_loss: 114.9204\n",
            "Epoch 164/1000\n",
            "71/71 [==============================] - 2s 24ms/step - loss: 152.1366 - val_loss: 96.5253\n",
            "Epoch 165/1000\n",
            "71/71 [==============================] - 1s 16ms/step - loss: 151.8518 - val_loss: 86.1644\n",
            "Epoch 166/1000\n",
            "71/71 [==============================] - 1s 16ms/step - loss: 165.1900 - val_loss: 196.7998\n",
            "Epoch 167/1000\n",
            "71/71 [==============================] - 1s 16ms/step - loss: 167.9775 - val_loss: 109.4321\n",
            "Epoch 168/1000\n",
            "71/71 [==============================] - 1s 16ms/step - loss: 158.7367 - val_loss: 116.6121\n",
            "Epoch 169/1000\n",
            "71/71 [==============================] - 1s 16ms/step - loss: 161.7160 - val_loss: 110.5677\n",
            "Epoch 170/1000\n",
            "71/71 [==============================] - 1s 17ms/step - loss: 150.5743 - val_loss: 82.6124\n",
            "Epoch 171/1000\n",
            "71/71 [==============================] - 1s 16ms/step - loss: 154.7658 - val_loss: 98.0149\n",
            "Epoch 172/1000\n",
            "71/71 [==============================] - 1s 19ms/step - loss: 151.9418 - val_loss: 92.5068\n",
            "Epoch 173/1000\n",
            "71/71 [==============================] - 1s 20ms/step - loss: 148.3413 - val_loss: 102.5158\n",
            "Epoch 174/1000\n",
            "71/71 [==============================] - 1s 17ms/step - loss: 155.6514 - val_loss: 97.1409\n",
            "Epoch 175/1000\n",
            "71/71 [==============================] - 1s 16ms/step - loss: 153.8735 - val_loss: 100.0061\n",
            "Epoch 176/1000\n",
            "71/71 [==============================] - 1s 16ms/step - loss: 158.6712 - val_loss: 241.6097\n",
            "Epoch 177/1000\n",
            "71/71 [==============================] - 1s 16ms/step - loss: 168.7939 - val_loss: 84.1034\n",
            "Epoch 178/1000\n",
            "71/71 [==============================] - 1s 16ms/step - loss: 162.7612 - val_loss: 91.1093\n",
            "Epoch 179/1000\n",
            "71/71 [==============================] - 1s 15ms/step - loss: 154.1753 - val_loss: 86.8540\n",
            "Epoch 180/1000\n",
            "71/71 [==============================] - 1s 16ms/step - loss: 157.6357 - val_loss: 88.8790\n",
            "Epoch 181/1000\n",
            "71/71 [==============================] - 1s 16ms/step - loss: 153.3368 - val_loss: 88.6599\n",
            "Epoch 182/1000\n",
            "71/71 [==============================] - 1s 16ms/step - loss: 154.2001 - val_loss: 104.7348\n",
            "Epoch 183/1000\n",
            "71/71 [==============================] - 1s 19ms/step - loss: 155.6248 - val_loss: 124.8269\n",
            "Epoch 184/1000\n",
            "71/71 [==============================] - 1s 19ms/step - loss: 155.6993 - val_loss: 94.1155\n",
            "Epoch 185/1000\n",
            "71/71 [==============================] - 1s 18ms/step - loss: 135.2564 - val_loss: 99.0064\n",
            "Epoch 186/1000\n",
            "71/71 [==============================] - 1s 17ms/step - loss: 158.9869 - val_loss: 121.9047\n",
            "Epoch 187/1000\n",
            "71/71 [==============================] - 1s 19ms/step - loss: 162.4931 - val_loss: 104.1921\n",
            "Epoch 188/1000\n",
            "71/71 [==============================] - 2s 22ms/step - loss: 141.0994 - val_loss: 74.3613\n",
            "Epoch 189/1000\n",
            "71/71 [==============================] - 1s 15ms/step - loss: 150.5832 - val_loss: 89.2300\n",
            "Epoch 190/1000\n",
            "71/71 [==============================] - 1s 16ms/step - loss: 146.4602 - val_loss: 91.7224\n",
            "Epoch 191/1000\n",
            "71/71 [==============================] - 1s 16ms/step - loss: 141.7903 - val_loss: 119.0799\n",
            "Epoch 192/1000\n",
            "71/71 [==============================] - 1s 16ms/step - loss: 141.4788 - val_loss: 97.5135\n",
            "Epoch 193/1000\n",
            "71/71 [==============================] - 1s 16ms/step - loss: 146.8030 - val_loss: 141.9904\n",
            "Epoch 194/1000\n",
            "71/71 [==============================] - 1s 19ms/step - loss: 171.4659 - val_loss: 84.8318\n",
            "Epoch 195/1000\n",
            "71/71 [==============================] - 1s 21ms/step - loss: 156.4630 - val_loss: 85.8880\n",
            "Epoch 196/1000\n",
            "71/71 [==============================] - 1s 15ms/step - loss: 152.3307 - val_loss: 90.5065\n",
            "Epoch 197/1000\n",
            "71/71 [==============================] - 1s 16ms/step - loss: 136.9297 - val_loss: 100.4823\n",
            "Epoch 198/1000\n",
            "71/71 [==============================] - 1s 16ms/step - loss: 140.8449 - val_loss: 69.6766\n",
            "Epoch 199/1000\n",
            "71/71 [==============================] - 1s 16ms/step - loss: 136.4522 - val_loss: 102.0145\n",
            "Epoch 200/1000\n",
            "71/71 [==============================] - 1s 16ms/step - loss: 146.2157 - val_loss: 82.7774\n",
            "Epoch 201/1000\n",
            "71/71 [==============================] - 1s 16ms/step - loss: 137.5116 - val_loss: 89.6639\n",
            "Epoch 202/1000\n",
            "71/71 [==============================] - 1s 15ms/step - loss: 138.5838 - val_loss: 220.1507\n",
            "Epoch 203/1000\n",
            "71/71 [==============================] - 1s 16ms/step - loss: 159.0610 - val_loss: 113.9347\n",
            "Epoch 204/1000\n",
            "71/71 [==============================] - 1s 15ms/step - loss: 151.7148 - val_loss: 105.6698\n",
            "Epoch 205/1000\n",
            "71/71 [==============================] - 1s 20ms/step - loss: 152.4067 - val_loss: 121.7151\n",
            "Epoch 206/1000\n",
            "71/71 [==============================] - 1s 20ms/step - loss: 149.1993 - val_loss: 176.6079\n",
            "Epoch 207/1000\n",
            "71/71 [==============================] - 1s 17ms/step - loss: 161.0085 - val_loss: 117.3754\n",
            "Epoch 208/1000\n",
            "71/71 [==============================] - 1s 16ms/step - loss: 147.0865 - val_loss: 91.8406\n",
            "Epoch 209/1000\n",
            "71/71 [==============================] - 1s 15ms/step - loss: 137.7016 - val_loss: 76.8850\n",
            "Epoch 210/1000\n",
            "71/71 [==============================] - 1s 15ms/step - loss: 151.1550 - val_loss: 85.0710\n",
            "Epoch 211/1000\n",
            "71/71 [==============================] - 1s 16ms/step - loss: 147.9171 - val_loss: 117.2744\n",
            "Epoch 212/1000\n",
            "71/71 [==============================] - 1s 15ms/step - loss: 130.4889 - val_loss: 85.9232\n",
            "Epoch 213/1000\n",
            "71/71 [==============================] - 1s 15ms/step - loss: 140.4782 - val_loss: 103.0405\n",
            "Epoch 214/1000\n",
            "71/71 [==============================] - 1s 16ms/step - loss: 143.3477 - val_loss: 87.0457\n",
            "Epoch 215/1000\n",
            "71/71 [==============================] - 1s 15ms/step - loss: 150.9584 - val_loss: 78.7791\n",
            "Epoch 216/1000\n",
            "71/71 [==============================] - 1s 18ms/step - loss: 157.0186 - val_loss: 99.4827\n",
            "Epoch 217/1000\n",
            "71/71 [==============================] - 1s 19ms/step - loss: 138.3945 - val_loss: 123.3074\n",
            "Epoch 218/1000\n",
            "71/71 [==============================] - 1s 18ms/step - loss: 142.7942 - val_loss: 90.8416\n",
            "Epoch 219/1000\n",
            "71/71 [==============================] - 1s 16ms/step - loss: 133.5241 - val_loss: 110.4201\n",
            "Epoch 220/1000\n",
            "71/71 [==============================] - 1s 16ms/step - loss: 141.4751 - val_loss: 98.0585\n",
            "Epoch 221/1000\n",
            "71/71 [==============================] - 1s 16ms/step - loss: 146.6382 - val_loss: 82.3817\n",
            "Epoch 222/1000\n",
            "71/71 [==============================] - 1s 16ms/step - loss: 143.5720 - val_loss: 150.8302\n",
            "Epoch 223/1000\n",
            "71/71 [==============================] - 1s 16ms/step - loss: 149.0706 - val_loss: 84.0148\n",
            "Epoch 224/1000\n",
            "71/71 [==============================] - 1s 15ms/step - loss: 135.5610 - val_loss: 109.8675\n",
            "Epoch 225/1000\n",
            "71/71 [==============================] - 1s 16ms/step - loss: 137.3164 - val_loss: 207.1429\n",
            "Epoch 226/1000\n",
            "71/71 [==============================] - 1s 17ms/step - loss: 140.5141 - val_loss: 82.2117\n",
            "Epoch 227/1000\n",
            "71/71 [==============================] - 1s 19ms/step - loss: 140.9758 - val_loss: 100.8164\n",
            "Epoch 228/1000\n",
            "71/71 [==============================] - 1s 20ms/step - loss: 128.0267 - val_loss: 69.9515\n",
            "Epoch 229/1000\n",
            "71/71 [==============================] - 1s 19ms/step - loss: 143.2655 - val_loss: 73.5789\n",
            "Epoch 230/1000\n",
            "71/71 [==============================] - 1s 16ms/step - loss: 139.0432 - val_loss: 155.5087\n",
            "Epoch 231/1000\n",
            "71/71 [==============================] - 1s 16ms/step - loss: 177.6394 - val_loss: 111.8871\n",
            "Epoch 232/1000\n",
            "71/71 [==============================] - 1s 16ms/step - loss: 155.4313 - val_loss: 100.0328\n",
            "Epoch 233/1000\n",
            "71/71 [==============================] - 1s 16ms/step - loss: 142.9379 - val_loss: 75.6864\n",
            "Epoch 234/1000\n",
            "71/71 [==============================] - 1s 16ms/step - loss: 167.9201 - val_loss: 135.3537\n",
            "Epoch 235/1000\n",
            "71/71 [==============================] - 1s 15ms/step - loss: 158.1890 - val_loss: 102.6240\n",
            "Epoch 236/1000\n",
            "71/71 [==============================] - 1s 16ms/step - loss: 138.8786 - val_loss: 86.9630\n",
            "Epoch 237/1000\n",
            "71/71 [==============================] - 1s 15ms/step - loss: 145.7460 - val_loss: 84.7730\n",
            "Epoch 238/1000\n",
            "71/71 [==============================] - 1s 18ms/step - loss: 137.4875 - val_loss: 72.3228\n",
            "Epoch 239/1000\n",
            "71/71 [==============================] - 1s 20ms/step - loss: 131.1522 - val_loss: 90.0586\n",
            "Epoch 240/1000\n",
            "71/71 [==============================] - 1s 19ms/step - loss: 144.9959 - val_loss: 78.5303\n",
            "Epoch 241/1000\n",
            "71/71 [==============================] - 1s 16ms/step - loss: 143.6944 - val_loss: 93.5664\n",
            "Epoch 242/1000\n",
            "71/71 [==============================] - 1s 20ms/step - loss: 141.6928 - val_loss: 111.4858\n",
            "Epoch 243/1000\n",
            "71/71 [==============================] - 1s 20ms/step - loss: 136.6386 - val_loss: 87.1249\n",
            "Epoch 244/1000\n",
            "71/71 [==============================] - 1s 18ms/step - loss: 128.9332 - val_loss: 75.5077\n",
            "Epoch 245/1000\n",
            "71/71 [==============================] - 1s 16ms/step - loss: 128.6305 - val_loss: 85.8600\n",
            "Epoch 246/1000\n",
            "71/71 [==============================] - 1s 15ms/step - loss: 133.6542 - val_loss: 89.3250\n",
            "Epoch 247/1000\n",
            "71/71 [==============================] - 1s 16ms/step - loss: 133.7093 - val_loss: 65.5029\n",
            "Epoch 248/1000\n",
            "71/71 [==============================] - 1s 16ms/step - loss: 125.1483 - val_loss: 71.0989\n",
            "Epoch 249/1000\n",
            "71/71 [==============================] - 1s 19ms/step - loss: 135.2803 - val_loss: 101.5383\n",
            "Epoch 250/1000\n",
            "71/71 [==============================] - 1s 20ms/step - loss: 138.3259 - val_loss: 73.4115\n",
            "Epoch 251/1000\n",
            "71/71 [==============================] - 1s 19ms/step - loss: 143.6316 - val_loss: 85.5983\n",
            "Epoch 252/1000\n",
            "71/71 [==============================] - 1s 16ms/step - loss: 137.0710 - val_loss: 68.0643\n",
            "Epoch 253/1000\n",
            "71/71 [==============================] - 1s 21ms/step - loss: 127.1349 - val_loss: 68.1456\n",
            "Epoch 254/1000\n",
            "71/71 [==============================] - 1s 15ms/step - loss: 128.3287 - val_loss: 67.3655\n",
            "Epoch 255/1000\n",
            "71/71 [==============================] - 1s 15ms/step - loss: 138.5087 - val_loss: 94.9146\n",
            "Epoch 256/1000\n",
            "71/71 [==============================] - 1s 16ms/step - loss: 146.1760 - val_loss: 98.9980\n",
            "Epoch 257/1000\n",
            "71/71 [==============================] - 1s 16ms/step - loss: 127.0958 - val_loss: 130.8559\n",
            "Epoch 258/1000\n",
            "71/71 [==============================] - 1s 16ms/step - loss: 127.7955 - val_loss: 139.7891\n",
            "Epoch 259/1000\n",
            "71/71 [==============================] - 1s 16ms/step - loss: 132.5251 - val_loss: 118.6976\n",
            "Epoch 260/1000\n",
            "71/71 [==============================] - 1s 19ms/step - loss: 135.6013 - val_loss: 101.3755\n",
            "Epoch 261/1000\n",
            "71/71 [==============================] - 1s 19ms/step - loss: 144.0640 - val_loss: 119.2433\n",
            "Epoch 262/1000\n",
            "71/71 [==============================] - 1s 18ms/step - loss: 142.9651 - val_loss: 112.3384\n",
            "Epoch 263/1000\n",
            "71/71 [==============================] - 1s 16ms/step - loss: 130.9237 - val_loss: 70.1373\n",
            "Epoch 264/1000\n",
            "71/71 [==============================] - 1s 16ms/step - loss: 134.7749 - val_loss: 81.8617\n",
            "Epoch 265/1000\n",
            "71/71 [==============================] - 1s 16ms/step - loss: 132.7779 - val_loss: 94.1366\n",
            "Epoch 266/1000\n",
            "71/71 [==============================] - 1s 15ms/step - loss: 129.7721 - val_loss: 73.7841\n",
            "Epoch 267/1000\n",
            "71/71 [==============================] - 1s 16ms/step - loss: 127.3627 - val_loss: 91.0704\n",
            "Epoch 268/1000\n",
            "71/71 [==============================] - 1s 16ms/step - loss: 127.7071 - val_loss: 83.5255\n",
            "Epoch 269/1000\n",
            "71/71 [==============================] - 1s 16ms/step - loss: 122.6189 - val_loss: 82.3386\n",
            "Epoch 270/1000\n",
            "71/71 [==============================] - 1s 16ms/step - loss: 131.2774 - val_loss: 112.3026\n",
            "Epoch 271/1000\n",
            "71/71 [==============================] - 1s 18ms/step - loss: 129.5054 - val_loss: 81.7543\n",
            "Epoch 272/1000\n",
            "71/71 [==============================] - 1s 19ms/step - loss: 125.3396 - val_loss: 90.9258\n",
            "Epoch 273/1000\n",
            "71/71 [==============================] - 1s 19ms/step - loss: 136.9285 - val_loss: 75.8806\n",
            "Epoch 274/1000\n",
            "71/71 [==============================] - 1s 16ms/step - loss: 142.8017 - val_loss: 80.1622\n",
            "Epoch 275/1000\n",
            "71/71 [==============================] - 1s 16ms/step - loss: 126.4838 - val_loss: 74.4524\n",
            "Epoch 276/1000\n",
            "71/71 [==============================] - 1s 16ms/step - loss: 130.2097 - val_loss: 98.9475\n",
            "Epoch 277/1000\n",
            "71/71 [==============================] - 1s 16ms/step - loss: 130.9777 - val_loss: 112.2121\n",
            "Epoch 278/1000\n",
            "71/71 [==============================] - 1s 16ms/step - loss: 134.3712 - val_loss: 108.9097\n",
            "Epoch 279/1000\n",
            "71/71 [==============================] - 1s 16ms/step - loss: 137.2286 - val_loss: 70.9733\n",
            "Epoch 280/1000\n",
            "71/71 [==============================] - 1s 16ms/step - loss: 128.9109 - val_loss: 106.5943\n",
            "Epoch 281/1000\n",
            "71/71 [==============================] - 1s 16ms/step - loss: 147.4277 - val_loss: 94.4515\n",
            "Epoch 282/1000\n",
            "71/71 [==============================] - 1s 16ms/step - loss: 142.0326 - val_loss: 128.8634\n",
            "Epoch 283/1000\n",
            "71/71 [==============================] - 1s 20ms/step - loss: 142.4955 - val_loss: 91.0093\n",
            "Epoch 284/1000\n",
            "71/71 [==============================] - 1s 20ms/step - loss: 132.2001 - val_loss: 107.2883\n",
            "Epoch 285/1000\n",
            "71/71 [==============================] - 1s 18ms/step - loss: 124.5068 - val_loss: 70.4430\n",
            "Epoch 286/1000\n",
            "71/71 [==============================] - 1s 16ms/step - loss: 128.1543 - val_loss: 81.5434\n",
            "Epoch 287/1000\n",
            "71/71 [==============================] - 1s 16ms/step - loss: 166.2354 - val_loss: 105.1618\n",
            "Epoch 288/1000\n",
            "71/71 [==============================] - 1s 16ms/step - loss: 141.9101 - val_loss: 127.4774\n",
            "Epoch 289/1000\n",
            "71/71 [==============================] - 1s 16ms/step - loss: 157.5661 - val_loss: 85.5625\n",
            "Epoch 290/1000\n",
            "71/71 [==============================] - 1s 16ms/step - loss: 132.3535 - val_loss: 86.5842\n",
            "Epoch 291/1000\n",
            "71/71 [==============================] - 1s 16ms/step - loss: 134.3187 - val_loss: 120.0327\n",
            "Epoch 292/1000\n",
            "71/71 [==============================] - 1s 16ms/step - loss: 132.2820 - val_loss: 81.5845\n",
            "Epoch 293/1000\n",
            "71/71 [==============================] - 1s 15ms/step - loss: 137.6946 - val_loss: 86.5012\n",
            "Epoch 294/1000\n",
            "71/71 [==============================] - 1s 18ms/step - loss: 118.6715 - val_loss: 93.3269\n",
            "Epoch 295/1000\n",
            "71/71 [==============================] - 1s 19ms/step - loss: 130.5600 - val_loss: 119.8644\n",
            "Epoch 296/1000\n",
            "71/71 [==============================] - 1s 19ms/step - loss: 133.1070 - val_loss: 116.9092\n",
            "Epoch 297/1000\n",
            "70/71 [============================>.] - ETA: 0s - loss: 155.8961Restoring model weights from the end of the best epoch: 247.\n",
            "71/71 [==============================] - 1s 16ms/step - loss: 155.5576 - val_loss: 84.8699\n",
            "Epoch 297: early stopping\n"
          ]
        }
      ]
    },
    {
      "cell_type": "code",
      "source": [
        "# Evaluate model\n",
        "loss = model.evaluate(X_test, y_test)\n",
        "print(\"Test Loss:\", loss)"
      ],
      "metadata": {
        "colab": {
          "base_uri": "https://localhost:8080/"
        },
        "id": "XlgohThFcmDk",
        "outputId": "e636d1f1-43d2-46ff-e966-3432ccd51755"
      },
      "execution_count": 30,
      "outputs": [
        {
          "output_type": "stream",
          "name": "stdout",
          "text": [
            "47/47 [==============================] - 0s 5ms/step - loss: 72.7729\n",
            "Test Loss: 72.77285766601562\n"
          ]
        }
      ]
    },
    {
      "cell_type": "code",
      "source": [
        "# Load test data\n",
        "test_data = pd.read_csv(\"test_data_covid.csv\")"
      ],
      "metadata": {
        "id": "-YKyMZErcoOj"
      },
      "execution_count": 31,
      "outputs": []
    },
    {
      "cell_type": "code",
      "source": [
        "# Handle missing values in test data\n",
        "test_data.fillna(method='ffill', inplace=True)"
      ],
      "metadata": {
        "id": "40rI5-p6cp3X"
      },
      "execution_count": 32,
      "outputs": []
    },
    {
      "cell_type": "code",
      "source": [
        "# Convert 'Date' to datetime format\n",
        "test_data['Date'] = pd.to_datetime(test_data['Date'], format='%d-%m-%Y')"
      ],
      "metadata": {
        "id": "Pt3SIwpOcrmJ"
      },
      "execution_count": 35,
      "outputs": []
    },
    {
      "cell_type": "code",
      "source": [
        "# Extract 'Time' from 'Date'\n",
        "test_data['Time'] = test_data['Date'].dt.time"
      ],
      "metadata": {
        "id": "I1zaMeqfctmP"
      },
      "execution_count": 36,
      "outputs": []
    },
    {
      "cell_type": "code",
      "source": [
        "# Extract day of the week from 'Date'\n",
        "test_data['Day_of_Week'] = test_data['Date'].dt.weekday"
      ],
      "metadata": {
        "id": "8YzzeT9-cvYq"
      },
      "execution_count": 37,
      "outputs": []
    },
    {
      "cell_type": "code",
      "source": [
        "# Calculate daily increase in confirmed cases for test data\n",
        "test_data['Daily_Increase_Confirmed'] = test_data['Confirmed'].diff()"
      ],
      "metadata": {
        "id": "-x4wsJ0ccwxE"
      },
      "execution_count": 38,
      "outputs": []
    },
    {
      "cell_type": "code",
      "source": [
        "# Encode categorical features for test data using the same LabelEncoder object\n",
        "test_data[\"State/UnionTerritory_Encoded\"] = le.transform(test_data[\"State/UnionTerritory\"])"
      ],
      "metadata": {
        "id": "2q_ioscrcye8"
      },
      "execution_count": 39,
      "outputs": []
    },
    {
      "cell_type": "code",
      "source": [
        "# Feature scaling for test data\n",
        "test_data[features] = scaler.transform(test_data[features])"
      ],
      "metadata": {
        "id": "dJ3kyyP-c0D9"
      },
      "execution_count": 40,
      "outputs": []
    },
    {
      "cell_type": "code",
      "source": [
        "# Prepare test data for prediction\n",
        "X_new = test_data[features].values\n",
        "X_new = X_new.reshape(X_new.shape[0], 1, X_new.shape[1])"
      ],
      "metadata": {
        "id": "zU-0dyx2c15O"
      },
      "execution_count": 41,
      "outputs": []
    },
    {
      "cell_type": "code",
      "source": [
        "# Predict using the trained model\n",
        "y_new = model.predict(X_new)\n",
        "y_new = y_new.astype(int)"
      ],
      "metadata": {
        "colab": {
          "base_uri": "https://localhost:8080/"
        },
        "id": "xmPu90llc3aR",
        "outputId": "4fdce5b4-83be-4af5-b576-0f6a3dcf6520"
      },
      "execution_count": 42,
      "outputs": [
        {
          "output_type": "stream",
          "name": "stdout",
          "text": [
            "98/98 [==============================] - 2s 4ms/step\n"
          ]
        },
        {
          "output_type": "stream",
          "name": "stderr",
          "text": [
            "<ipython-input-42-fe8febaf1f2c>:3: RuntimeWarning: invalid value encountered in cast\n",
            "  y_new = y_new.astype(int)\n"
          ]
        }
      ]
    },
    {
      "cell_type": "code",
      "source": [
        "# Convert predictions to one-dimensional array\n",
        "y_new = y_new.ravel()"
      ],
      "metadata": {
        "id": "nhy2nTmMc48c"
      },
      "execution_count": 43,
      "outputs": []
    },
    {
      "cell_type": "code",
      "source": [
        "# Save predictions to CSV with 'Sno' from test_data_covid.csv\n",
        "output = pd.DataFrame({'Sno': test_data['Sno'], 'Deaths': y_new})"
      ],
      "metadata": {
        "id": "UJ6oFwJyc6VK"
      },
      "execution_count": 44,
      "outputs": []
    },
    {
      "cell_type": "code",
      "source": [
        "# Replace negative values with 0\n",
        "output['Deaths'] = output['Deaths'].clip(lower=0)"
      ],
      "metadata": {
        "id": "AZVRHKy6c7pl"
      },
      "execution_count": 45,
      "outputs": []
    },
    {
      "cell_type": "code",
      "source": [
        "# Display output\n",
        "display(output)"
      ],
      "metadata": {
        "colab": {
          "base_uri": "https://localhost:8080/",
          "height": 423
        },
        "id": "qRdrm6eZc876",
        "outputId": "f54cdd77-877e-4b88-c2b0-19afa9924b6f"
      },
      "execution_count": 46,
      "outputs": [
        {
          "output_type": "display_data",
          "data": {
            "text/plain": [
              "        Sno  Deaths\n",
              "0     15001       0\n",
              "1     15002      86\n",
              "2     15003      93\n",
              "3     15004    2426\n",
              "4     15005    1035\n",
              "...     ...     ...\n",
              "3105  18106    2986\n",
              "3106  18107     759\n",
              "3107  18108    4730\n",
              "3108  18109   17079\n",
              "3109  18110   13131\n",
              "\n",
              "[3110 rows x 2 columns]"
            ],
            "text/html": [
              "\n",
              "  <div id=\"df-137f8c65-790b-483b-b47c-7bebb55a466f\" class=\"colab-df-container\">\n",
              "    <div>\n",
              "<style scoped>\n",
              "    .dataframe tbody tr th:only-of-type {\n",
              "        vertical-align: middle;\n",
              "    }\n",
              "\n",
              "    .dataframe tbody tr th {\n",
              "        vertical-align: top;\n",
              "    }\n",
              "\n",
              "    .dataframe thead th {\n",
              "        text-align: right;\n",
              "    }\n",
              "</style>\n",
              "<table border=\"1\" class=\"dataframe\">\n",
              "  <thead>\n",
              "    <tr style=\"text-align: right;\">\n",
              "      <th></th>\n",
              "      <th>Sno</th>\n",
              "      <th>Deaths</th>\n",
              "    </tr>\n",
              "  </thead>\n",
              "  <tbody>\n",
              "    <tr>\n",
              "      <th>0</th>\n",
              "      <td>15001</td>\n",
              "      <td>0</td>\n",
              "    </tr>\n",
              "    <tr>\n",
              "      <th>1</th>\n",
              "      <td>15002</td>\n",
              "      <td>86</td>\n",
              "    </tr>\n",
              "    <tr>\n",
              "      <th>2</th>\n",
              "      <td>15003</td>\n",
              "      <td>93</td>\n",
              "    </tr>\n",
              "    <tr>\n",
              "      <th>3</th>\n",
              "      <td>15004</td>\n",
              "      <td>2426</td>\n",
              "    </tr>\n",
              "    <tr>\n",
              "      <th>4</th>\n",
              "      <td>15005</td>\n",
              "      <td>1035</td>\n",
              "    </tr>\n",
              "    <tr>\n",
              "      <th>...</th>\n",
              "      <td>...</td>\n",
              "      <td>...</td>\n",
              "    </tr>\n",
              "    <tr>\n",
              "      <th>3105</th>\n",
              "      <td>18106</td>\n",
              "      <td>2986</td>\n",
              "    </tr>\n",
              "    <tr>\n",
              "      <th>3106</th>\n",
              "      <td>18107</td>\n",
              "      <td>759</td>\n",
              "    </tr>\n",
              "    <tr>\n",
              "      <th>3107</th>\n",
              "      <td>18108</td>\n",
              "      <td>4730</td>\n",
              "    </tr>\n",
              "    <tr>\n",
              "      <th>3108</th>\n",
              "      <td>18109</td>\n",
              "      <td>17079</td>\n",
              "    </tr>\n",
              "    <tr>\n",
              "      <th>3109</th>\n",
              "      <td>18110</td>\n",
              "      <td>13131</td>\n",
              "    </tr>\n",
              "  </tbody>\n",
              "</table>\n",
              "<p>3110 rows × 2 columns</p>\n",
              "</div>\n",
              "    <div class=\"colab-df-buttons\">\n",
              "\n",
              "  <div class=\"colab-df-container\">\n",
              "    <button class=\"colab-df-convert\" onclick=\"convertToInteractive('df-137f8c65-790b-483b-b47c-7bebb55a466f')\"\n",
              "            title=\"Convert this dataframe to an interactive table.\"\n",
              "            style=\"display:none;\">\n",
              "\n",
              "  <svg xmlns=\"http://www.w3.org/2000/svg\" height=\"24px\" viewBox=\"0 -960 960 960\">\n",
              "    <path d=\"M120-120v-720h720v720H120Zm60-500h600v-160H180v160Zm220 220h160v-160H400v160Zm0 220h160v-160H400v160ZM180-400h160v-160H180v160Zm440 0h160v-160H620v160ZM180-180h160v-160H180v160Zm440 0h160v-160H620v160Z\"/>\n",
              "  </svg>\n",
              "    </button>\n",
              "\n",
              "  <style>\n",
              "    .colab-df-container {\n",
              "      display:flex;\n",
              "      gap: 12px;\n",
              "    }\n",
              "\n",
              "    .colab-df-convert {\n",
              "      background-color: #E8F0FE;\n",
              "      border: none;\n",
              "      border-radius: 50%;\n",
              "      cursor: pointer;\n",
              "      display: none;\n",
              "      fill: #1967D2;\n",
              "      height: 32px;\n",
              "      padding: 0 0 0 0;\n",
              "      width: 32px;\n",
              "    }\n",
              "\n",
              "    .colab-df-convert:hover {\n",
              "      background-color: #E2EBFA;\n",
              "      box-shadow: 0px 1px 2px rgba(60, 64, 67, 0.3), 0px 1px 3px 1px rgba(60, 64, 67, 0.15);\n",
              "      fill: #174EA6;\n",
              "    }\n",
              "\n",
              "    .colab-df-buttons div {\n",
              "      margin-bottom: 4px;\n",
              "    }\n",
              "\n",
              "    [theme=dark] .colab-df-convert {\n",
              "      background-color: #3B4455;\n",
              "      fill: #D2E3FC;\n",
              "    }\n",
              "\n",
              "    [theme=dark] .colab-df-convert:hover {\n",
              "      background-color: #434B5C;\n",
              "      box-shadow: 0px 1px 3px 1px rgba(0, 0, 0, 0.15);\n",
              "      filter: drop-shadow(0px 1px 2px rgba(0, 0, 0, 0.3));\n",
              "      fill: #FFFFFF;\n",
              "    }\n",
              "  </style>\n",
              "\n",
              "    <script>\n",
              "      const buttonEl =\n",
              "        document.querySelector('#df-137f8c65-790b-483b-b47c-7bebb55a466f button.colab-df-convert');\n",
              "      buttonEl.style.display =\n",
              "        google.colab.kernel.accessAllowed ? 'block' : 'none';\n",
              "\n",
              "      async function convertToInteractive(key) {\n",
              "        const element = document.querySelector('#df-137f8c65-790b-483b-b47c-7bebb55a466f');\n",
              "        const dataTable =\n",
              "          await google.colab.kernel.invokeFunction('convertToInteractive',\n",
              "                                                    [key], {});\n",
              "        if (!dataTable) return;\n",
              "\n",
              "        const docLinkHtml = 'Like what you see? Visit the ' +\n",
              "          '<a target=\"_blank\" href=https://colab.research.google.com/notebooks/data_table.ipynb>data table notebook</a>'\n",
              "          + ' to learn more about interactive tables.';\n",
              "        element.innerHTML = '';\n",
              "        dataTable['output_type'] = 'display_data';\n",
              "        await google.colab.output.renderOutput(dataTable, element);\n",
              "        const docLink = document.createElement('div');\n",
              "        docLink.innerHTML = docLinkHtml;\n",
              "        element.appendChild(docLink);\n",
              "      }\n",
              "    </script>\n",
              "  </div>\n",
              "\n",
              "\n",
              "<div id=\"df-03c510eb-1c3d-480e-92cc-418262b02e3b\">\n",
              "  <button class=\"colab-df-quickchart\" onclick=\"quickchart('df-03c510eb-1c3d-480e-92cc-418262b02e3b')\"\n",
              "            title=\"Suggest charts\"\n",
              "            style=\"display:none;\">\n",
              "\n",
              "<svg xmlns=\"http://www.w3.org/2000/svg\" height=\"24px\"viewBox=\"0 0 24 24\"\n",
              "     width=\"24px\">\n",
              "    <g>\n",
              "        <path d=\"M19 3H5c-1.1 0-2 .9-2 2v14c0 1.1.9 2 2 2h14c1.1 0 2-.9 2-2V5c0-1.1-.9-2-2-2zM9 17H7v-7h2v7zm4 0h-2V7h2v10zm4 0h-2v-4h2v4z\"/>\n",
              "    </g>\n",
              "</svg>\n",
              "  </button>\n",
              "\n",
              "<style>\n",
              "  .colab-df-quickchart {\n",
              "      --bg-color: #E8F0FE;\n",
              "      --fill-color: #1967D2;\n",
              "      --hover-bg-color: #E2EBFA;\n",
              "      --hover-fill-color: #174EA6;\n",
              "      --disabled-fill-color: #AAA;\n",
              "      --disabled-bg-color: #DDD;\n",
              "  }\n",
              "\n",
              "  [theme=dark] .colab-df-quickchart {\n",
              "      --bg-color: #3B4455;\n",
              "      --fill-color: #D2E3FC;\n",
              "      --hover-bg-color: #434B5C;\n",
              "      --hover-fill-color: #FFFFFF;\n",
              "      --disabled-bg-color: #3B4455;\n",
              "      --disabled-fill-color: #666;\n",
              "  }\n",
              "\n",
              "  .colab-df-quickchart {\n",
              "    background-color: var(--bg-color);\n",
              "    border: none;\n",
              "    border-radius: 50%;\n",
              "    cursor: pointer;\n",
              "    display: none;\n",
              "    fill: var(--fill-color);\n",
              "    height: 32px;\n",
              "    padding: 0;\n",
              "    width: 32px;\n",
              "  }\n",
              "\n",
              "  .colab-df-quickchart:hover {\n",
              "    background-color: var(--hover-bg-color);\n",
              "    box-shadow: 0 1px 2px rgba(60, 64, 67, 0.3), 0 1px 3px 1px rgba(60, 64, 67, 0.15);\n",
              "    fill: var(--button-hover-fill-color);\n",
              "  }\n",
              "\n",
              "  .colab-df-quickchart-complete:disabled,\n",
              "  .colab-df-quickchart-complete:disabled:hover {\n",
              "    background-color: var(--disabled-bg-color);\n",
              "    fill: var(--disabled-fill-color);\n",
              "    box-shadow: none;\n",
              "  }\n",
              "\n",
              "  .colab-df-spinner {\n",
              "    border: 2px solid var(--fill-color);\n",
              "    border-color: transparent;\n",
              "    border-bottom-color: var(--fill-color);\n",
              "    animation:\n",
              "      spin 1s steps(1) infinite;\n",
              "  }\n",
              "\n",
              "  @keyframes spin {\n",
              "    0% {\n",
              "      border-color: transparent;\n",
              "      border-bottom-color: var(--fill-color);\n",
              "      border-left-color: var(--fill-color);\n",
              "    }\n",
              "    20% {\n",
              "      border-color: transparent;\n",
              "      border-left-color: var(--fill-color);\n",
              "      border-top-color: var(--fill-color);\n",
              "    }\n",
              "    30% {\n",
              "      border-color: transparent;\n",
              "      border-left-color: var(--fill-color);\n",
              "      border-top-color: var(--fill-color);\n",
              "      border-right-color: var(--fill-color);\n",
              "    }\n",
              "    40% {\n",
              "      border-color: transparent;\n",
              "      border-right-color: var(--fill-color);\n",
              "      border-top-color: var(--fill-color);\n",
              "    }\n",
              "    60% {\n",
              "      border-color: transparent;\n",
              "      border-right-color: var(--fill-color);\n",
              "    }\n",
              "    80% {\n",
              "      border-color: transparent;\n",
              "      border-right-color: var(--fill-color);\n",
              "      border-bottom-color: var(--fill-color);\n",
              "    }\n",
              "    90% {\n",
              "      border-color: transparent;\n",
              "      border-bottom-color: var(--fill-color);\n",
              "    }\n",
              "  }\n",
              "</style>\n",
              "\n",
              "  <script>\n",
              "    async function quickchart(key) {\n",
              "      const quickchartButtonEl =\n",
              "        document.querySelector('#' + key + ' button');\n",
              "      quickchartButtonEl.disabled = true;  // To prevent multiple clicks.\n",
              "      quickchartButtonEl.classList.add('colab-df-spinner');\n",
              "      try {\n",
              "        const charts = await google.colab.kernel.invokeFunction(\n",
              "            'suggestCharts', [key], {});\n",
              "      } catch (error) {\n",
              "        console.error('Error during call to suggestCharts:', error);\n",
              "      }\n",
              "      quickchartButtonEl.classList.remove('colab-df-spinner');\n",
              "      quickchartButtonEl.classList.add('colab-df-quickchart-complete');\n",
              "    }\n",
              "    (() => {\n",
              "      let quickchartButtonEl =\n",
              "        document.querySelector('#df-03c510eb-1c3d-480e-92cc-418262b02e3b button');\n",
              "      quickchartButtonEl.style.display =\n",
              "        google.colab.kernel.accessAllowed ? 'block' : 'none';\n",
              "    })();\n",
              "  </script>\n",
              "</div>\n",
              "\n",
              "  <div id=\"id_c9ae1556-e6c8-4d52-867f-58e833ec342e\">\n",
              "    <style>\n",
              "      .colab-df-generate {\n",
              "        background-color: #E8F0FE;\n",
              "        border: none;\n",
              "        border-radius: 50%;\n",
              "        cursor: pointer;\n",
              "        display: none;\n",
              "        fill: #1967D2;\n",
              "        height: 32px;\n",
              "        padding: 0 0 0 0;\n",
              "        width: 32px;\n",
              "      }\n",
              "\n",
              "      .colab-df-generate:hover {\n",
              "        background-color: #E2EBFA;\n",
              "        box-shadow: 0px 1px 2px rgba(60, 64, 67, 0.3), 0px 1px 3px 1px rgba(60, 64, 67, 0.15);\n",
              "        fill: #174EA6;\n",
              "      }\n",
              "\n",
              "      [theme=dark] .colab-df-generate {\n",
              "        background-color: #3B4455;\n",
              "        fill: #D2E3FC;\n",
              "      }\n",
              "\n",
              "      [theme=dark] .colab-df-generate:hover {\n",
              "        background-color: #434B5C;\n",
              "        box-shadow: 0px 1px 3px 1px rgba(0, 0, 0, 0.15);\n",
              "        filter: drop-shadow(0px 1px 2px rgba(0, 0, 0, 0.3));\n",
              "        fill: #FFFFFF;\n",
              "      }\n",
              "    </style>\n",
              "    <button class=\"colab-df-generate\" onclick=\"generateWithVariable('output')\"\n",
              "            title=\"Generate code using this dataframe.\"\n",
              "            style=\"display:none;\">\n",
              "\n",
              "  <svg xmlns=\"http://www.w3.org/2000/svg\" height=\"24px\"viewBox=\"0 0 24 24\"\n",
              "       width=\"24px\">\n",
              "    <path d=\"M7,19H8.4L18.45,9,17,7.55,7,17.6ZM5,21V16.75L18.45,3.32a2,2,0,0,1,2.83,0l1.4,1.43a1.91,1.91,0,0,1,.58,1.4,1.91,1.91,0,0,1-.58,1.4L9.25,21ZM18.45,9,17,7.55Zm-12,3A5.31,5.31,0,0,0,4.9,8.1,5.31,5.31,0,0,0,1,6.5,5.31,5.31,0,0,0,4.9,4.9,5.31,5.31,0,0,0,6.5,1,5.31,5.31,0,0,0,8.1,4.9,5.31,5.31,0,0,0,12,6.5,5.46,5.46,0,0,0,6.5,12Z\"/>\n",
              "  </svg>\n",
              "    </button>\n",
              "    <script>\n",
              "      (() => {\n",
              "      const buttonEl =\n",
              "        document.querySelector('#id_c9ae1556-e6c8-4d52-867f-58e833ec342e button.colab-df-generate');\n",
              "      buttonEl.style.display =\n",
              "        google.colab.kernel.accessAllowed ? 'block' : 'none';\n",
              "\n",
              "      buttonEl.onclick = () => {\n",
              "        google.colab.notebook.generateWithVariable('output');\n",
              "      }\n",
              "      })();\n",
              "    </script>\n",
              "  </div>\n",
              "\n",
              "    </div>\n",
              "  </div>\n"
            ],
            "application/vnd.google.colaboratory.intrinsic+json": {
              "type": "dataframe",
              "variable_name": "output",
              "summary": "{\n  \"name\": \"output\",\n  \"rows\": 3110,\n  \"fields\": [\n    {\n      \"column\": \"Sno\",\n      \"properties\": {\n        \"dtype\": \"number\",\n        \"std\": 897,\n        \"min\": 15001,\n        \"max\": 18110,\n        \"num_unique_values\": 3110,\n        \"samples\": [\n          15694,\n          16739,\n          15215\n        ],\n        \"semantic_type\": \"\",\n        \"description\": \"\"\n      }\n    },\n    {\n      \"column\": \"Deaths\",\n      \"properties\": {\n        \"dtype\": \"number\",\n        \"std\": 13685,\n        \"min\": 0,\n        \"max\": 76122,\n        \"num_unique_values\": 1998,\n        \"samples\": [\n          420,\n          20633,\n          6458\n        ],\n        \"semantic_type\": \"\",\n        \"description\": \"\"\n      }\n    }\n  ]\n}"
            }
          },
          "metadata": {}
        }
      ]
    },
    {
      "cell_type": "code",
      "source": [
        "# Save predictions to CSV file\n",
        "output.to_csv('sample_submission.csv', index=False)"
      ],
      "metadata": {
        "id": "Q9lt24hoc-M0"
      },
      "execution_count": 47,
      "outputs": []
    },
    {
      "cell_type": "code",
      "source": [
        "# Plot training and validation loss\n",
        "plt.plot(history.history['loss'], label='Training Loss')\n",
        "plt.plot(history.history['val_loss'], label='Validation Loss')\n",
        "plt.title('Model Loss')\n",
        "plt.xlabel('Epoch')\n",
        "plt.ylabel('Loss')\n",
        "plt.legend()\n",
        "plt.show()"
      ],
      "metadata": {
        "colab": {
          "base_uri": "https://localhost:8080/",
          "height": 472
        },
        "id": "T28NZLrJc_6b",
        "outputId": "dfab7180-c5e0-46e5-86ab-1d144c20c146"
      },
      "execution_count": 48,
      "outputs": [
        {
          "output_type": "display_data",
          "data": {
            "text/plain": [
              "<Figure size 640x480 with 1 Axes>"
            ],
            "image/png": "[encoded data removed]"
          },
          "metadata": {}
        }
      ]
    },
    {
      "cell_type": "code",
      "source": [],
      "metadata": {
        "id": "FYCc1nRGdAtM"
      },
      "execution_count": 48,
      "outputs": []
    }
  ]
}